{
 "cells": [
  {
   "cell_type": "markdown",
   "id": "867e8460",
   "metadata": {},
   "source": [
    "Sveučilište u Zagrebu  \n",
    "Fakultet elektrotehnike i računarstva\n",
    "\n",
    "## Uvod u znanost o podacima 2021/2022\n",
    "https://www.fer.unizg.hr/predmet/uuzop"
   ]
  },
  {
   "cell_type": "markdown",
   "id": "312d39fa",
   "metadata": {},
   "source": [
    "------------------------------\n",
    "\n",
    "### Early Predictor for Student Success Based on Behavioural and Demographical Indicators\n",
    "\n",
    "*Verzija: 1.0\n",
    "<br>\n",
    "Zadnji put ažurirano: 14.11.2021.*\n",
    "\n",
    "------------------------------"
   ]
  },
  {
   "cell_type": "code",
   "execution_count": null,
   "id": "b47bfb0a",
   "metadata": {},
   "outputs": [],
   "source": []
  }
 ],
 "metadata": {
  "kernelspec": {
   "display_name": "Python 3",
   "language": "python",
   "name": "python3"
  },
  "language_info": {
   "codemirror_mode": {
    "name": "ipython",
    "version": 3
   },
   "file_extension": ".py",
   "mimetype": "text/x-python",
   "name": "python",
   "nbconvert_exporter": "python",
   "pygments_lexer": "ipython3",
   "version": "3.8.8"
  }
 },
 "nbformat": 4,
 "nbformat_minor": 5
}
